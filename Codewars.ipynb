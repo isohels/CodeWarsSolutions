{
 "cells": [
  {
   "cell_type": "code",
   "execution_count": 119,
   "metadata": {},
   "outputs": [],
   "source": [
    "def find_longest(string):\n",
    "    spllist=[]\n",
    "    spl = string.split()\n",
    "    #spllist.append(spl)\n",
    "    print (spl)\n",
    "    for i in spl:\n",
    "        \n",
    "        (spllist.append(len(i)))\n",
    "    print(spllist)\n",
    "    return(max(spllist))\n",
    "       \n",
    "    \n",
    "\n"
   ]
  },
  {
   "cell_type": "code",
   "execution_count": 121,
   "metadata": {},
   "outputs": [
    {
     "name": "stdout",
     "output_type": "stream",
     "text": [
      "['Basic', 'Test', 'is', 'o', 'tytytytyty', 'l']\n",
      "[5, 4, 2, 1, 10, 1]\n"
     ]
    },
    {
     "data": {
      "text/plain": [
       "10"
      ]
     },
     "execution_count": 121,
     "metadata": {},
     "output_type": "execute_result"
    }
   ],
   "source": [
    "find_longest(\"Basic Test is o tytytytyty l\")"
   ]
  },
  {
   "cell_type": "code",
   "execution_count": 159,
   "metadata": {},
   "outputs": [],
   "source": [
    "import math\n",
    "\n",
    "#Function to calculate tip\n",
    "def calculate_tip(amount, rating):\n",
    "    \n",
    "    print(rating)\n",
    "    if(rating.upper()==\"TERRIBLE\"):\n",
    "        tip = (amount*0)/100\n",
    "        return (math.ceil(tip))\n",
    "    elif(rating.upper()==\"POOR\"):\n",
    "        tip = (amount*5)/100\n",
    "        return (math.ceil(tip))\n",
    "    elif(rating.upper()==\"GOOD\"):\n",
    "        tip = (amount*10)/100\n",
    "        return (math.ceil(tip))\n",
    "    elif(rating.upper()==\"GREAT\"):\n",
    "        tip = (amount*15)/100\n",
    "        return (math.ceil(tip))\n",
    "    elif(rating.upper()==\"EXCELLENT\"):\n",
    "        tip = (amount*20)/100\n",
    "        return (math.ceil(tip))\n",
    "    else:\n",
    "        return('Rating not recognized')"
   ]
  },
  {
   "cell_type": "code",
   "execution_count": 160,
   "metadata": {},
   "outputs": [
    {
     "name": "stdout",
     "output_type": "stream",
     "text": [
      "GReat\n"
     ]
    },
    {
     "data": {
      "text/plain": [
       "17"
      ]
     },
     "execution_count": 160,
     "metadata": {},
     "output_type": "execute_result"
    }
   ],
   "source": [
    "calculate_tip(107.65, \"GReat\")"
   ]
  },
  {
   "cell_type": "code",
   "execution_count": 300,
   "metadata": {},
   "outputs": [],
   "source": [
    "#creating ladder\n",
    "def draw_stairs(n):\n",
    "    for i in range(n):\n",
    "        for j in range(0,i+1):\n",
    "            if(i==j):\n",
    "                print(\"i\")\n",
    "            else:\n",
    "                print(end=\" \")\n",
    "        \n",
    "    \n",
    "                \n",
    "                \n",
    "            \n",
    "\n",
    "            "
   ]
  },
  {
   "cell_type": "code",
   "execution_count": 302,
   "metadata": {},
   "outputs": [
    {
     "name": "stdout",
     "output_type": "stream",
     "text": [
      "i\n",
      " i\n",
      "  i\n",
      "   i\n",
      "    i\n"
     ]
    }
   ],
   "source": [
    "draw_stairs(5)"
   ]
  },
  {
   "cell_type": "code",
   "execution_count": 306,
   "metadata": {},
   "outputs": [],
   "source": [
    "def draw_stairs(n):\n",
    "    for i in range(n):\n",
    "        ladder='\\n'.join('{}I'.format(' '*i)for i in range(n))\n",
    "        return ladder"
   ]
  },
  {
   "cell_type": "code",
   "execution_count": 308,
   "metadata": {},
   "outputs": [
    {
     "data": {
      "text/plain": [
       "'I\\n I\\n  I'"
      ]
     },
     "execution_count": 308,
     "metadata": {},
     "output_type": "execute_result"
    }
   ],
   "source": [
    "draw_stairs(3)"
   ]
  },
  {
   "cell_type": "code",
   "execution_count": 310,
   "metadata": {},
   "outputs": [],
   "source": [
    "def is_divisible(n,x,y):\n",
    "    if (n%x==0 and n%y==0):\n",
    "        return True\n",
    "    else:\n",
    "        return False"
   ]
  },
  {
   "cell_type": "code",
   "execution_count": 311,
   "metadata": {},
   "outputs": [],
   "source": [
    "\n",
    "def expression_matter(a, b, c):\n",
    "    mylist=[]\n",
    "    sum1=a*(b+c)\n",
    "    sum2=a*b*c\n",
    "    sum3=a+b*c\n",
    "    sum4=(a+b)*c\n",
    "    mylist.append(sum1)\n",
    "    mylist.append(sum2)\n",
    "    mylist.append(sum3)\n",
    "    mylist.append(sum4)\n",
    "    print(mylist)\n",
    "    return max(mylist)"
   ]
  },
  {
   "cell_type": "code",
   "execution_count": 313,
   "metadata": {},
   "outputs": [],
   "source": [
    "import math\n",
    "def century(year):\n",
    "    century=year/100\n",
    "    return(math.ceil(century))"
   ]
  },
  {
   "cell_type": "code",
   "execution_count": 316,
   "metadata": {},
   "outputs": [
    {
     "data": {
      "text/plain": [
       "19"
      ]
     },
     "execution_count": 316,
     "metadata": {},
     "output_type": "execute_result"
    }
   ],
   "source": [
    "century(1900)"
   ]
  },
  {
   "cell_type": "code",
   "execution_count": 334,
   "metadata": {},
   "outputs": [],
   "source": [
    "def no_space(x):\n",
    "    \n",
    "    return x.replace(\" \",\"\")"
   ]
  },
  {
   "cell_type": "code",
   "execution_count": 336,
   "metadata": {},
   "outputs": [
    {
     "data": {
      "text/plain": [
       "'basictest'"
      ]
     },
     "execution_count": 336,
     "metadata": {},
     "output_type": "execute_result"
    }
   ],
   "source": [
    "no_space('basic test')"
   ]
  },
  {
   "cell_type": "code",
   "execution_count": 342,
   "metadata": {},
   "outputs": [],
   "source": [
    "def between(a,b):\n",
    "    mylist=[]\n",
    "    for i in range(a,b+1):\n",
    "        mylist.append(i)\n",
    "    return mylist"
   ]
  },
  {
   "cell_type": "code",
   "execution_count": 344,
   "metadata": {},
   "outputs": [
    {
     "data": {
      "text/plain": [
       "[1, 2, 3, 4]"
      ]
     },
     "execution_count": 344,
     "metadata": {},
     "output_type": "execute_result"
    }
   ],
   "source": [
    "between(1,4)"
   ]
  },
  {
   "cell_type": "code",
   "execution_count": 7,
   "metadata": {},
   "outputs": [],
   "source": [
    "def maps(n): \n",
    "  \n",
    "    result = map(lambda x : x*2, n) \n",
    "    return(list(result))"
   ]
  },
  {
   "cell_type": "code",
   "execution_count": 9,
   "metadata": {},
   "outputs": [
    {
     "data": {
      "text/plain": [
       "[2, 4, 6]"
      ]
     },
     "execution_count": 9,
     "metadata": {},
     "output_type": "execute_result"
    }
   ],
   "source": [
    "maps([1,2,3])"
   ]
  },
  {
   "cell_type": "code",
   "execution_count": 37,
   "metadata": {},
   "outputs": [],
   "source": [
    "def well(x):\n",
    "    mylist=[]\n",
    "    for i in x:\n",
    "        mylist.append(i)\n",
    "    print(mylist)\n",
    "    if mylist.count('good')<=2:\n",
    "        return('publish')\n",
    "    elif mylist.count('good')>2:\n",
    "        return('I smell a series!')\n",
    "    else:\n",
    "        return('Fail!')\n",
    "    "
   ]
  },
  {
   "cell_type": "code",
   "execution_count": 39,
   "metadata": {},
   "outputs": [
    {
     "name": "stdout",
     "output_type": "stream",
     "text": [
      "['bad', 'good', 'tada', 'bad', 'good']\n"
     ]
    },
    {
     "data": {
      "text/plain": [
       "'publish'"
      ]
     },
     "execution_count": 39,
     "metadata": {},
     "output_type": "execute_result"
    }
   ],
   "source": [
    "well(['bad','good','tada','bad','good'])"
   ]
  },
  {
   "cell_type": "code",
   "execution_count": 57,
   "metadata": {},
   "outputs": [],
   "source": [
    "def sum_mix(arr):\n",
    "    mylist = []\n",
    "    sum=0\n",
    "    for i in arr:\n",
    "        i=int(i)\n",
    "        mylist.append(int(i))\n",
    "        sum=sum+i\n",
    "    print(mylist)\n",
    "    return(sum)"
   ]
  },
  {
   "cell_type": "code",
   "execution_count": 58,
   "metadata": {},
   "outputs": [
    {
     "name": "stdout",
     "output_type": "stream",
     "text": [
      "[8, 3, 5, 2, 3]\n"
     ]
    },
    {
     "data": {
      "text/plain": [
       "21"
      ]
     },
     "execution_count": 58,
     "metadata": {},
     "output_type": "execute_result"
    }
   ],
   "source": [
    "sum_mix([8,3,5,'2',3])"
   ]
  },
  {
   "cell_type": "code",
   "execution_count": 61,
   "metadata": {},
   "outputs": [
    {
     "ename": "SyntaxError",
     "evalue": "invalid syntax (<ipython-input-61-d7ff6e1f2922>, line 7)",
     "output_type": "error",
     "traceback": [
      "\u001b[1;36m  File \u001b[1;32m\"<ipython-input-61-d7ff6e1f2922>\"\u001b[1;36m, line \u001b[1;32m7\u001b[0m\n\u001b[1;33m    def_if(2>3,truthy,falsey):\u001b[0m\n\u001b[1;37m                              ^\u001b[0m\n\u001b[1;31mSyntaxError\u001b[0m\u001b[1;31m:\u001b[0m invalid syntax\n"
     ]
    }
   ],
   "source": [
    "def truthy(cond):\n",
    "    if (cond==True):\n",
    "        print(\"True\")\n",
    "def falsey(cond):\n",
    "    if (cond==False):\n",
    "        print(\"False\")\n",
    "def_if(2>3,truthy,falsey):\n",
    "    pass\n",
    "\n"
   ]
  },
  {
   "cell_type": "code",
   "execution_count": 70,
   "metadata": {},
   "outputs": [],
   "source": [
    "def sum_str(a,b):\n",
    "    sum=0\n",
    "    sum=int(a)+int(b)\n",
    "    return(str(sum))"
   ]
  },
  {
   "cell_type": "code",
   "execution_count": 71,
   "metadata": {},
   "outputs": [
    {
     "data": {
      "text/plain": [
       "'9'"
      ]
     },
     "execution_count": 71,
     "metadata": {},
     "output_type": "execute_result"
    }
   ],
   "source": [
    "sum_str(\"4\",\"5\")"
   ]
  },
  {
   "cell_type": "code",
   "execution_count": 30,
   "metadata": {},
   "outputs": [],
   "source": [
    "def lookup(a):\n",
    "    mylist = [1,2,30]\n",
    "\n",
    "    for i in mylist:\n",
    "        if(i==a):\n",
    "            return True\n",
    "    else:\n",
    "        return False\n"
   ]
  },
  {
   "cell_type": "code",
   "execution_count": null,
   "metadata": {},
   "outputs": [],
   "source": []
  },
  {
   "cell_type": "code",
   "execution_count": 35,
   "metadata": {},
   "outputs": [
    {
     "data": {
      "text/plain": [
       "False"
      ]
     },
     "execution_count": 35,
     "metadata": {},
     "output_type": "execute_result"
    }
   ],
   "source": [
    "lookup(10)"
   ]
  },
  {
   "cell_type": "code",
   "execution_count": 41,
   "metadata": {},
   "outputs": [],
   "source": [
    "def divide_numbers(x,y):\n",
    "\n",
    "    return float(x/y)"
   ]
  },
  {
   "cell_type": "code",
   "execution_count": 43,
   "metadata": {},
   "outputs": [
    {
     "data": {
      "text/plain": [
       "0.01"
      ]
     },
     "execution_count": 43,
     "metadata": {},
     "output_type": "execute_result"
    }
   ],
   "source": [
    "divide_numbers(1,100)"
   ]
  },
  {
   "cell_type": "code",
   "execution_count": 47,
   "metadata": {},
   "outputs": [],
   "source": [
    "def double_integer(i):\n",
    "    return(i*2)"
   ]
  },
  {
   "cell_type": "code",
   "execution_count": 46,
   "metadata": {},
   "outputs": [
    {
     "data": {
      "text/plain": [
       "64"
      ]
     },
     "execution_count": 46,
     "metadata": {},
     "output_type": "execute_result"
    }
   ],
   "source": [
    "double_integer(8)"
   ]
  }
 ],
 "metadata": {
  "kernelspec": {
   "display_name": "Python 3",
   "language": "python",
   "name": "python3"
  },
  "language_info": {
   "codemirror_mode": {
    "name": "ipython",
    "version": 3
   },
   "file_extension": ".py",
   "mimetype": "text/x-python",
   "name": "python",
   "nbconvert_exporter": "python",
   "pygments_lexer": "ipython3",
   "version": "3.7.4"
  }
 },
 "nbformat": 4,
 "nbformat_minor": 2
}
